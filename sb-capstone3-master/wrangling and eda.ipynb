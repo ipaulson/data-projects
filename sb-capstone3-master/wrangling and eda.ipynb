{
 "cells": [
  {
   "cell_type": "markdown",
   "metadata": {},
   "source": [
    "## Import Python Packages"
   ]
  },
  {
   "cell_type": "code",
   "execution_count": 1,
   "metadata": {},
   "outputs": [],
   "source": [
    "import numpy as np\n",
    "import pandas as pd\n",
    "import matplotlib.pyplot as plt\n",
    "%matplotlib inline\n",
    "import seaborn as sns\n",
    "import missingno as msno\n",
    "from datetime import datetime as dt, timedelta"
   ]
  },
  {
   "cell_type": "markdown",
   "metadata": {},
   "source": [
    "## Load Data\n",
    "\n",
    "The dataset is made up of four seperate csv files. The data was downloaded as csv files from multiple sources. In-game stats and attendance data comes from [Baseball Reference League Index](https://www.baseball-reference.com/leagues/). Information on ticket prices comes from the Economic History Association's [The Economic History of Major League Baseball](https://eh.net/encyclopedia/the-economic-history-of-major-league-baseball/) and [Average ticket price in Major League Baseball 2006-2020](https://www.statista.com/statistics/193426/average-ticket-price-in-the-mlb-since-2006/). Data from the last two sources was compiled by hand using Excel before loading as a pandas DataFrame below:"
   ]
  },
  {
   "cell_type": "code",
   "execution_count": 2,
   "metadata": {},
   "outputs": [
    {
     "data": {
      "text/html": [
       "<div>\n",
       "<style scoped>\n",
       "    .dataframe tbody tr th:only-of-type {\n",
       "        vertical-align: middle;\n",
       "    }\n",
       "\n",
       "    .dataframe tbody tr th {\n",
       "        vertical-align: top;\n",
       "    }\n",
       "\n",
       "    .dataframe thead th {\n",
       "        text-align: right;\n",
       "    }\n",
       "</style>\n",
       "<table border=\"1\" class=\"dataframe\">\n",
       "  <thead>\n",
       "    <tr style=\"text-align: right;\">\n",
       "      <th></th>\n",
       "      <th>Tms</th>\n",
       "      <th>#Bat</th>\n",
       "      <th>BatAge</th>\n",
       "      <th>R/G</th>\n",
       "      <th>G</th>\n",
       "      <th>PA</th>\n",
       "      <th>AB</th>\n",
       "      <th>R</th>\n",
       "      <th>H</th>\n",
       "      <th>2B</th>\n",
       "      <th>...</th>\n",
       "      <th>BA</th>\n",
       "      <th>OBP</th>\n",
       "      <th>SLG</th>\n",
       "      <th>OPS</th>\n",
       "      <th>TB</th>\n",
       "      <th>GDP</th>\n",
       "      <th>HBP</th>\n",
       "      <th>SH</th>\n",
       "      <th>SF</th>\n",
       "      <th>IBB</th>\n",
       "    </tr>\n",
       "    <tr>\n",
       "      <th>Year</th>\n",
       "      <th></th>\n",
       "      <th></th>\n",
       "      <th></th>\n",
       "      <th></th>\n",
       "      <th></th>\n",
       "      <th></th>\n",
       "      <th></th>\n",
       "      <th></th>\n",
       "      <th></th>\n",
       "      <th></th>\n",
       "      <th></th>\n",
       "      <th></th>\n",
       "      <th></th>\n",
       "      <th></th>\n",
       "      <th></th>\n",
       "      <th></th>\n",
       "      <th></th>\n",
       "      <th></th>\n",
       "      <th></th>\n",
       "      <th></th>\n",
       "      <th></th>\n",
       "    </tr>\n",
       "  </thead>\n",
       "  <tbody>\n",
       "    <tr>\n",
       "      <th>1871</th>\n",
       "      <td>9</td>\n",
       "      <td>115</td>\n",
       "      <td>23.8</td>\n",
       "      <td>10.47</td>\n",
       "      <td>254</td>\n",
       "      <td>44.15</td>\n",
       "      <td>42.61</td>\n",
       "      <td>10.47</td>\n",
       "      <td>12.21</td>\n",
       "      <td>1.71</td>\n",
       "      <td>...</td>\n",
       "      <td>0.287</td>\n",
       "      <td>0.312</td>\n",
       "      <td>0.384</td>\n",
       "      <td>0.695</td>\n",
       "      <td>16.35</td>\n",
       "      <td>0.29</td>\n",
       "      <td>NaN</td>\n",
       "      <td>NaN</td>\n",
       "      <td>NaN</td>\n",
       "      <td>NaN</td>\n",
       "    </tr>\n",
       "    <tr>\n",
       "      <th>1872</th>\n",
       "      <td>11</td>\n",
       "      <td>143</td>\n",
       "      <td>23.4</td>\n",
       "      <td>9.26</td>\n",
       "      <td>366</td>\n",
       "      <td>43.52</td>\n",
       "      <td>42.80</td>\n",
       "      <td>9.26</td>\n",
       "      <td>12.20</td>\n",
       "      <td>1.59</td>\n",
       "      <td>...</td>\n",
       "      <td>0.285</td>\n",
       "      <td>0.297</td>\n",
       "      <td>0.348</td>\n",
       "      <td>0.645</td>\n",
       "      <td>14.89</td>\n",
       "      <td>0.27</td>\n",
       "      <td>NaN</td>\n",
       "      <td>NaN</td>\n",
       "      <td>NaN</td>\n",
       "      <td>NaN</td>\n",
       "    </tr>\n",
       "    <tr>\n",
       "      <th>1873</th>\n",
       "      <td>9</td>\n",
       "      <td>122</td>\n",
       "      <td>24.0</td>\n",
       "      <td>8.99</td>\n",
       "      <td>398</td>\n",
       "      <td>43.45</td>\n",
       "      <td>42.61</td>\n",
       "      <td>8.99</td>\n",
       "      <td>12.38</td>\n",
       "      <td>1.43</td>\n",
       "      <td>...</td>\n",
       "      <td>0.290</td>\n",
       "      <td>0.304</td>\n",
       "      <td>0.357</td>\n",
       "      <td>0.661</td>\n",
       "      <td>15.22</td>\n",
       "      <td>0.31</td>\n",
       "      <td>NaN</td>\n",
       "      <td>NaN</td>\n",
       "      <td>NaN</td>\n",
       "      <td>NaN</td>\n",
       "    </tr>\n",
       "    <tr>\n",
       "      <th>1874</th>\n",
       "      <td>8</td>\n",
       "      <td>120</td>\n",
       "      <td>25.0</td>\n",
       "      <td>7.48</td>\n",
       "      <td>464</td>\n",
       "      <td>41.69</td>\n",
       "      <td>41.17</td>\n",
       "      <td>7.48</td>\n",
       "      <td>11.26</td>\n",
       "      <td>1.37</td>\n",
       "      <td>...</td>\n",
       "      <td>0.273</td>\n",
       "      <td>0.282</td>\n",
       "      <td>0.333</td>\n",
       "      <td>0.616</td>\n",
       "      <td>13.72</td>\n",
       "      <td>0.23</td>\n",
       "      <td>NaN</td>\n",
       "      <td>NaN</td>\n",
       "      <td>NaN</td>\n",
       "      <td>NaN</td>\n",
       "    </tr>\n",
       "    <tr>\n",
       "      <th>1875</th>\n",
       "      <td>13</td>\n",
       "      <td>188</td>\n",
       "      <td>24.7</td>\n",
       "      <td>6.14</td>\n",
       "      <td>690</td>\n",
       "      <td>39.25</td>\n",
       "      <td>38.89</td>\n",
       "      <td>6.14</td>\n",
       "      <td>9.87</td>\n",
       "      <td>1.22</td>\n",
       "      <td>...</td>\n",
       "      <td>0.254</td>\n",
       "      <td>0.261</td>\n",
       "      <td>0.310</td>\n",
       "      <td>0.571</td>\n",
       "      <td>12.05</td>\n",
       "      <td>0.21</td>\n",
       "      <td>NaN</td>\n",
       "      <td>NaN</td>\n",
       "      <td>NaN</td>\n",
       "      <td>NaN</td>\n",
       "    </tr>\n",
       "  </tbody>\n",
       "</table>\n",
       "<p>5 rows × 27 columns</p>\n",
       "</div>"
      ],
      "text/plain": [
       "      Tms  #Bat  BatAge    R/G    G     PA     AB      R      H    2B  ...  \\\n",
       "Year                                                                   ...   \n",
       "1871    9   115    23.8  10.47  254  44.15  42.61  10.47  12.21  1.71  ...   \n",
       "1872   11   143    23.4   9.26  366  43.52  42.80   9.26  12.20  1.59  ...   \n",
       "1873    9   122    24.0   8.99  398  43.45  42.61   8.99  12.38  1.43  ...   \n",
       "1874    8   120    25.0   7.48  464  41.69  41.17   7.48  11.26  1.37  ...   \n",
       "1875   13   188    24.7   6.14  690  39.25  38.89   6.14   9.87  1.22  ...   \n",
       "\n",
       "         BA    OBP    SLG    OPS     TB   GDP  HBP  SH  SF  IBB  \n",
       "Year                                                             \n",
       "1871  0.287  0.312  0.384  0.695  16.35  0.29  NaN NaN NaN  NaN  \n",
       "1872  0.285  0.297  0.348  0.645  14.89  0.27  NaN NaN NaN  NaN  \n",
       "1873  0.290  0.304  0.357  0.661  15.22  0.31  NaN NaN NaN  NaN  \n",
       "1874  0.273  0.282  0.333  0.616  13.72  0.23  NaN NaN NaN  NaN  \n",
       "1875  0.254  0.261  0.310  0.571  12.05  0.21  NaN NaN NaN  NaN  \n",
       "\n",
       "[5 rows x 27 columns]"
      ]
     },
     "execution_count": 2,
     "metadata": {},
     "output_type": "execute_result"
    }
   ],
   "source": [
    "bat = pd.read_excel('data/sportsref_batting_avg.xls', index_col='Year')\n",
    "pitch = pd.read_excel('data/sportsref_pitching_avg.xls', index_col='Year')\n",
    "misc = pd.read_csv('data/misc.csv', index_col='Year')\n",
    "cost = pd.read_csv('data/ticket-prices.tsv', sep='\\t', index_col='year')\n",
    "bat.head()"
   ]
  },
  {
   "cell_type": "code",
   "execution_count": 3,
   "metadata": {},
   "outputs": [
    {
     "data": {
      "text/html": [
       "<div>\n",
       "<style scoped>\n",
       "    .dataframe tbody tr th:only-of-type {\n",
       "        vertical-align: middle;\n",
       "    }\n",
       "\n",
       "    .dataframe tbody tr th {\n",
       "        vertical-align: top;\n",
       "    }\n",
       "\n",
       "    .dataframe thead th {\n",
       "        text-align: right;\n",
       "    }\n",
       "</style>\n",
       "<table border=\"1\" class=\"dataframe\">\n",
       "  <thead>\n",
       "    <tr style=\"text-align: right;\">\n",
       "      <th></th>\n",
       "      <th>Tms</th>\n",
       "      <th>#P</th>\n",
       "      <th>PAge</th>\n",
       "      <th>R/G</th>\n",
       "      <th>ERA</th>\n",
       "      <th>G</th>\n",
       "      <th>GF</th>\n",
       "      <th>CG</th>\n",
       "      <th>SHO</th>\n",
       "      <th>tSho</th>\n",
       "      <th>...</th>\n",
       "      <th>BF</th>\n",
       "      <th>ERA+</th>\n",
       "      <th>WHIP</th>\n",
       "      <th>BAbip</th>\n",
       "      <th>H9</th>\n",
       "      <th>HR9</th>\n",
       "      <th>BB9</th>\n",
       "      <th>SO9</th>\n",
       "      <th>SO/W</th>\n",
       "      <th>E</th>\n",
       "    </tr>\n",
       "    <tr>\n",
       "      <th>Year</th>\n",
       "      <th></th>\n",
       "      <th></th>\n",
       "      <th></th>\n",
       "      <th></th>\n",
       "      <th></th>\n",
       "      <th></th>\n",
       "      <th></th>\n",
       "      <th></th>\n",
       "      <th></th>\n",
       "      <th></th>\n",
       "      <th></th>\n",
       "      <th></th>\n",
       "      <th></th>\n",
       "      <th></th>\n",
       "      <th></th>\n",
       "      <th></th>\n",
       "      <th></th>\n",
       "      <th></th>\n",
       "      <th></th>\n",
       "      <th></th>\n",
       "      <th></th>\n",
       "    </tr>\n",
       "  </thead>\n",
       "  <tbody>\n",
       "    <tr>\n",
       "      <th>2021</th>\n",
       "      <td>30</td>\n",
       "      <td>699</td>\n",
       "      <td>28.9</td>\n",
       "      <td>4.40</td>\n",
       "      <td>4.10</td>\n",
       "      <td>2316</td>\n",
       "      <td>0.99</td>\n",
       "      <td>0.01</td>\n",
       "      <td>0.01</td>\n",
       "      <td>0.07</td>\n",
       "      <td>...</td>\n",
       "      <td>37.24</td>\n",
       "      <td>NaN</td>\n",
       "      <td>1.277</td>\n",
       "      <td>0.289</td>\n",
       "      <td>8.1</td>\n",
       "      <td>1.2</td>\n",
       "      <td>3.4</td>\n",
       "      <td>9.2</td>\n",
       "      <td>2.70</td>\n",
       "      <td>0.57</td>\n",
       "    </tr>\n",
       "    <tr>\n",
       "      <th>2020</th>\n",
       "      <td>30</td>\n",
       "      <td>735</td>\n",
       "      <td>28.3</td>\n",
       "      <td>4.65</td>\n",
       "      <td>4.44</td>\n",
       "      <td>1796</td>\n",
       "      <td>0.98</td>\n",
       "      <td>0.02</td>\n",
       "      <td>0.01</td>\n",
       "      <td>0.06</td>\n",
       "      <td>...</td>\n",
       "      <td>37.03</td>\n",
       "      <td>NaN</td>\n",
       "      <td>1.327</td>\n",
       "      <td>0.292</td>\n",
       "      <td>8.4</td>\n",
       "      <td>1.3</td>\n",
       "      <td>3.5</td>\n",
       "      <td>9.1</td>\n",
       "      <td>2.56</td>\n",
       "      <td>0.58</td>\n",
       "    </tr>\n",
       "    <tr>\n",
       "      <th>2019</th>\n",
       "      <td>30</td>\n",
       "      <td>831</td>\n",
       "      <td>28.4</td>\n",
       "      <td>4.83</td>\n",
       "      <td>4.49</td>\n",
       "      <td>4858</td>\n",
       "      <td>0.99</td>\n",
       "      <td>0.01</td>\n",
       "      <td>0.01</td>\n",
       "      <td>0.06</td>\n",
       "      <td>...</td>\n",
       "      <td>38.39</td>\n",
       "      <td>NaN</td>\n",
       "      <td>1.334</td>\n",
       "      <td>0.298</td>\n",
       "      <td>8.7</td>\n",
       "      <td>1.4</td>\n",
       "      <td>3.3</td>\n",
       "      <td>8.9</td>\n",
       "      <td>2.69</td>\n",
       "      <td>0.60</td>\n",
       "    </tr>\n",
       "    <tr>\n",
       "      <th>2018</th>\n",
       "      <td>30</td>\n",
       "      <td>799</td>\n",
       "      <td>28.4</td>\n",
       "      <td>4.45</td>\n",
       "      <td>4.14</td>\n",
       "      <td>4862</td>\n",
       "      <td>0.99</td>\n",
       "      <td>0.01</td>\n",
       "      <td>0.00</td>\n",
       "      <td>0.06</td>\n",
       "      <td>...</td>\n",
       "      <td>38.08</td>\n",
       "      <td>NaN</td>\n",
       "      <td>1.304</td>\n",
       "      <td>0.295</td>\n",
       "      <td>8.5</td>\n",
       "      <td>1.2</td>\n",
       "      <td>3.2</td>\n",
       "      <td>8.5</td>\n",
       "      <td>2.63</td>\n",
       "      <td>0.57</td>\n",
       "    </tr>\n",
       "    <tr>\n",
       "      <th>2017</th>\n",
       "      <td>30</td>\n",
       "      <td>755</td>\n",
       "      <td>28.5</td>\n",
       "      <td>4.65</td>\n",
       "      <td>4.35</td>\n",
       "      <td>4860</td>\n",
       "      <td>0.99</td>\n",
       "      <td>0.01</td>\n",
       "      <td>0.01</td>\n",
       "      <td>0.05</td>\n",
       "      <td>...</td>\n",
       "      <td>38.13</td>\n",
       "      <td>NaN</td>\n",
       "      <td>1.342</td>\n",
       "      <td>0.300</td>\n",
       "      <td>8.8</td>\n",
       "      <td>1.3</td>\n",
       "      <td>3.3</td>\n",
       "      <td>8.3</td>\n",
       "      <td>2.53</td>\n",
       "      <td>0.58</td>\n",
       "    </tr>\n",
       "  </tbody>\n",
       "</table>\n",
       "<p>5 rows × 32 columns</p>\n",
       "</div>"
      ],
      "text/plain": [
       "      Tms   #P  PAge   R/G   ERA     G    GF    CG   SHO  tSho  ...     BF  \\\n",
       "Year                                                            ...          \n",
       "2021   30  699  28.9  4.40  4.10  2316  0.99  0.01  0.01  0.07  ...  37.24   \n",
       "2020   30  735  28.3  4.65  4.44  1796  0.98  0.02  0.01  0.06  ...  37.03   \n",
       "2019   30  831  28.4  4.83  4.49  4858  0.99  0.01  0.01  0.06  ...  38.39   \n",
       "2018   30  799  28.4  4.45  4.14  4862  0.99  0.01  0.00  0.06  ...  38.08   \n",
       "2017   30  755  28.5  4.65  4.35  4860  0.99  0.01  0.01  0.05  ...  38.13   \n",
       "\n",
       "      ERA+   WHIP  BAbip   H9  HR9  BB9  SO9  SO/W     E  \n",
       "Year                                                      \n",
       "2021   NaN  1.277  0.289  8.1  1.2  3.4  9.2  2.70  0.57  \n",
       "2020   NaN  1.327  0.292  8.4  1.3  3.5  9.1  2.56  0.58  \n",
       "2019   NaN  1.334  0.298  8.7  1.4  3.3  8.9  2.69  0.60  \n",
       "2018   NaN  1.304  0.295  8.5  1.2  3.2  8.5  2.63  0.57  \n",
       "2017   NaN  1.342  0.300  8.8  1.3  3.3  8.3  2.53  0.58  \n",
       "\n",
       "[5 rows x 32 columns]"
      ]
     },
     "execution_count": 3,
     "metadata": {},
     "output_type": "execute_result"
    }
   ],
   "source": [
    "pitch.head()"
   ]
  },
  {
   "cell_type": "code",
   "execution_count": 4,
   "metadata": {},
   "outputs": [
    {
     "data": {
      "text/html": [
       "<div>\n",
       "<style scoped>\n",
       "    .dataframe tbody tr th:only-of-type {\n",
       "        vertical-align: middle;\n",
       "    }\n",
       "\n",
       "    .dataframe tbody tr th {\n",
       "        vertical-align: top;\n",
       "    }\n",
       "\n",
       "    .dataframe thead th {\n",
       "        text-align: right;\n",
       "    }\n",
       "</style>\n",
       "<table border=\"1\" class=\"dataframe\">\n",
       "  <thead>\n",
       "    <tr style=\"text-align: right;\">\n",
       "      <th></th>\n",
       "      <th>Tms</th>\n",
       "      <th>G</th>\n",
       "      <th>Time</th>\n",
       "      <th>Time/9I</th>\n",
       "      <th>Inn</th>\n",
       "      <th>Inn%</th>\n",
       "      <th>R/G</th>\n",
       "      <th>PA/G</th>\n",
       "      <th>Pitches/PA</th>\n",
       "      <th>Batters/G</th>\n",
       "      <th>Pitchers/G</th>\n",
       "      <th>PH/G</th>\n",
       "      <th>PR/G</th>\n",
       "      <th>Batters/S</th>\n",
       "      <th>Pitchers/S</th>\n",
       "      <th>Attendance</th>\n",
       "      <th>Attend/G</th>\n",
       "      <th>Lg Payroll*</th>\n",
       "      <th>Payroll/Tm*</th>\n",
       "    </tr>\n",
       "    <tr>\n",
       "      <th>Year</th>\n",
       "      <th></th>\n",
       "      <th></th>\n",
       "      <th></th>\n",
       "      <th></th>\n",
       "      <th></th>\n",
       "      <th></th>\n",
       "      <th></th>\n",
       "      <th></th>\n",
       "      <th></th>\n",
       "      <th></th>\n",
       "      <th></th>\n",
       "      <th></th>\n",
       "      <th></th>\n",
       "      <th></th>\n",
       "      <th></th>\n",
       "      <th></th>\n",
       "      <th></th>\n",
       "      <th></th>\n",
       "      <th></th>\n",
       "    </tr>\n",
       "  </thead>\n",
       "  <tbody>\n",
       "    <tr>\n",
       "      <th>2021</th>\n",
       "      <td>30</td>\n",
       "      <td>1051</td>\n",
       "      <td>3:09</td>\n",
       "      <td>3:08</td>\n",
       "      <td>99.0</td>\n",
       "      <td>9.42</td>\n",
       "      <td>8.86</td>\n",
       "      <td>74.5</td>\n",
       "      <td>3.92</td>\n",
       "      <td>10.3</td>\n",
       "      <td>4.30</td>\n",
       "      <td>1.15</td>\n",
       "      <td>0.13</td>\n",
       "      <td>20.7</td>\n",
       "      <td>23.3</td>\n",
       "      <td>13274115.0</td>\n",
       "      <td>12629.0</td>\n",
       "      <td>$3566884893</td>\n",
       "      <td>$118896163</td>\n",
       "    </tr>\n",
       "    <tr>\n",
       "      <th>2020</th>\n",
       "      <td>30</td>\n",
       "      <td>898</td>\n",
       "      <td>3:06</td>\n",
       "      <td>3:07</td>\n",
       "      <td>68.0</td>\n",
       "      <td>7.57</td>\n",
       "      <td>9.29</td>\n",
       "      <td>74.0</td>\n",
       "      <td>3.97</td>\n",
       "      <td>10.4</td>\n",
       "      <td>4.43</td>\n",
       "      <td>0.65</td>\n",
       "      <td>0.23</td>\n",
       "      <td>20.7</td>\n",
       "      <td>25.7</td>\n",
       "      <td>NaN</td>\n",
       "      <td>NaN</td>\n",
       "      <td>NaN</td>\n",
       "      <td>NaN</td>\n",
       "    </tr>\n",
       "    <tr>\n",
       "      <th>2019</th>\n",
       "      <td>30</td>\n",
       "      <td>2429</td>\n",
       "      <td>3:10</td>\n",
       "      <td>3:05</td>\n",
       "      <td>208.0</td>\n",
       "      <td>8.56</td>\n",
       "      <td>9.66</td>\n",
       "      <td>76.8</td>\n",
       "      <td>3.93</td>\n",
       "      <td>10.3</td>\n",
       "      <td>4.41</td>\n",
       "      <td>1.18</td>\n",
       "      <td>0.14</td>\n",
       "      <td>24.9</td>\n",
       "      <td>31.0</td>\n",
       "      <td>68506896.0</td>\n",
       "      <td>28203.0</td>\n",
       "      <td>$3999827072</td>\n",
       "      <td>$133327569</td>\n",
       "    </tr>\n",
       "    <tr>\n",
       "      <th>2018</th>\n",
       "      <td>30</td>\n",
       "      <td>2431</td>\n",
       "      <td>3:04</td>\n",
       "      <td>3:00</td>\n",
       "      <td>216.0</td>\n",
       "      <td>8.89</td>\n",
       "      <td>8.90</td>\n",
       "      <td>76.1</td>\n",
       "      <td>3.90</td>\n",
       "      <td>10.4</td>\n",
       "      <td>4.36</td>\n",
       "      <td>1.16</td>\n",
       "      <td>0.16</td>\n",
       "      <td>24.7</td>\n",
       "      <td>29.7</td>\n",
       "      <td>69671272.0</td>\n",
       "      <td>28659.0</td>\n",
       "      <td>$3964096903</td>\n",
       "      <td>$132136563</td>\n",
       "    </tr>\n",
       "    <tr>\n",
       "      <th>2017</th>\n",
       "      <td>30</td>\n",
       "      <td>2430</td>\n",
       "      <td>3:08</td>\n",
       "      <td>3:05</td>\n",
       "      <td>182.0</td>\n",
       "      <td>7.49</td>\n",
       "      <td>9.29</td>\n",
       "      <td>76.2</td>\n",
       "      <td>3.89</td>\n",
       "      <td>10.3</td>\n",
       "      <td>4.22</td>\n",
       "      <td>1.13</td>\n",
       "      <td>0.15</td>\n",
       "      <td>24.2</td>\n",
       "      <td>28.0</td>\n",
       "      <td>72678797.0</td>\n",
       "      <td>29908.0</td>\n",
       "      <td>$3983892634</td>\n",
       "      <td>$132796421</td>\n",
       "    </tr>\n",
       "    <tr>\n",
       "      <th>2016</th>\n",
       "      <td>30</td>\n",
       "      <td>2428</td>\n",
       "      <td>3:04</td>\n",
       "      <td>3:00</td>\n",
       "      <td>185.0</td>\n",
       "      <td>7.62</td>\n",
       "      <td>8.96</td>\n",
       "      <td>76.0</td>\n",
       "      <td>3.88</td>\n",
       "      <td>10.4</td>\n",
       "      <td>4.15</td>\n",
       "      <td>1.12</td>\n",
       "      <td>0.16</td>\n",
       "      <td>24.2</td>\n",
       "      <td>27.5</td>\n",
       "      <td>73159044.0</td>\n",
       "      <td>30131.0</td>\n",
       "      <td>$3761011880</td>\n",
       "      <td>$125367062</td>\n",
       "    </tr>\n",
       "    <tr>\n",
       "      <th>2015</th>\n",
       "      <td>30</td>\n",
       "      <td>2429</td>\n",
       "      <td>3:00</td>\n",
       "      <td>2:56</td>\n",
       "      <td>212.0</td>\n",
       "      <td>8.73</td>\n",
       "      <td>8.50</td>\n",
       "      <td>75.6</td>\n",
       "      <td>3.83</td>\n",
       "      <td>10.4</td>\n",
       "      <td>4.11</td>\n",
       "      <td>1.16</td>\n",
       "      <td>0.18</td>\n",
       "      <td>24.5</td>\n",
       "      <td>27.0</td>\n",
       "      <td>73719340.0</td>\n",
       "      <td>30349.0</td>\n",
       "      <td>$3680887206</td>\n",
       "      <td>$122696240</td>\n",
       "    </tr>\n",
       "    <tr>\n",
       "      <th>2014</th>\n",
       "      <td>30</td>\n",
       "      <td>2430</td>\n",
       "      <td>3:07</td>\n",
       "      <td>3:02</td>\n",
       "      <td>232.0</td>\n",
       "      <td>9.55</td>\n",
       "      <td>8.13</td>\n",
       "      <td>75.7</td>\n",
       "      <td>3.83</td>\n",
       "      <td>10.3</td>\n",
       "      <td>3.98</td>\n",
       "      <td>1.14</td>\n",
       "      <td>0.17</td>\n",
       "      <td>24.8</td>\n",
       "      <td>24.8</td>\n",
       "      <td>73739622.0</td>\n",
       "      <td>30345.0</td>\n",
       "      <td>$3398869156</td>\n",
       "      <td>$113295638</td>\n",
       "    </tr>\n",
       "    <tr>\n",
       "      <th>2013</th>\n",
       "      <td>30</td>\n",
       "      <td>2431</td>\n",
       "      <td>3:04</td>\n",
       "      <td>2:58</td>\n",
       "      <td>243.0</td>\n",
       "      <td>10.00</td>\n",
       "      <td>8.33</td>\n",
       "      <td>76.0</td>\n",
       "      <td>3.84</td>\n",
       "      <td>10.3</td>\n",
       "      <td>3.95</td>\n",
       "      <td>1.12</td>\n",
       "      <td>0.17</td>\n",
       "      <td>24.5</td>\n",
       "      <td>24.2</td>\n",
       "      <td>74027037.0</td>\n",
       "      <td>30451.0</td>\n",
       "      <td>$3150727861</td>\n",
       "      <td>$105024262</td>\n",
       "    </tr>\n",
       "    <tr>\n",
       "      <th>2012</th>\n",
       "      <td>30</td>\n",
       "      <td>2430</td>\n",
       "      <td>3:00</td>\n",
       "      <td>2:55</td>\n",
       "      <td>192.0</td>\n",
       "      <td>7.90</td>\n",
       "      <td>8.65</td>\n",
       "      <td>75.8</td>\n",
       "      <td>3.83</td>\n",
       "      <td>10.3</td>\n",
       "      <td>3.99</td>\n",
       "      <td>1.14</td>\n",
       "      <td>0.18</td>\n",
       "      <td>24.7</td>\n",
       "      <td>24.1</td>\n",
       "      <td>74859268.0</td>\n",
       "      <td>30806.0</td>\n",
       "      <td>$2950092506</td>\n",
       "      <td>$98336416</td>\n",
       "    </tr>\n",
       "  </tbody>\n",
       "</table>\n",
       "</div>"
      ],
      "text/plain": [
       "      Tms     G  Time Time/9I    Inn   Inn%   R/G  PA/G  Pitches/PA  \\\n",
       "Year                                                                  \n",
       "2021   30  1051  3:09    3:08   99.0   9.42  8.86  74.5        3.92   \n",
       "2020   30   898  3:06    3:07   68.0   7.57  9.29  74.0        3.97   \n",
       "2019   30  2429  3:10    3:05  208.0   8.56  9.66  76.8        3.93   \n",
       "2018   30  2431  3:04    3:00  216.0   8.89  8.90  76.1        3.90   \n",
       "2017   30  2430  3:08    3:05  182.0   7.49  9.29  76.2        3.89   \n",
       "2016   30  2428  3:04    3:00  185.0   7.62  8.96  76.0        3.88   \n",
       "2015   30  2429  3:00    2:56  212.0   8.73  8.50  75.6        3.83   \n",
       "2014   30  2430  3:07    3:02  232.0   9.55  8.13  75.7        3.83   \n",
       "2013   30  2431  3:04    2:58  243.0  10.00  8.33  76.0        3.84   \n",
       "2012   30  2430  3:00    2:55  192.0   7.90  8.65  75.8        3.83   \n",
       "\n",
       "      Batters/G  Pitchers/G  PH/G  PR/G  Batters/S  Pitchers/S  Attendance  \\\n",
       "Year                                                                         \n",
       "2021       10.3        4.30  1.15  0.13       20.7        23.3  13274115.0   \n",
       "2020       10.4        4.43  0.65  0.23       20.7        25.7         NaN   \n",
       "2019       10.3        4.41  1.18  0.14       24.9        31.0  68506896.0   \n",
       "2018       10.4        4.36  1.16  0.16       24.7        29.7  69671272.0   \n",
       "2017       10.3        4.22  1.13  0.15       24.2        28.0  72678797.0   \n",
       "2016       10.4        4.15  1.12  0.16       24.2        27.5  73159044.0   \n",
       "2015       10.4        4.11  1.16  0.18       24.5        27.0  73719340.0   \n",
       "2014       10.3        3.98  1.14  0.17       24.8        24.8  73739622.0   \n",
       "2013       10.3        3.95  1.12  0.17       24.5        24.2  74027037.0   \n",
       "2012       10.3        3.99  1.14  0.18       24.7        24.1  74859268.0   \n",
       "\n",
       "      Attend/G  Lg Payroll* Payroll/Tm*  \n",
       "Year                                     \n",
       "2021   12629.0  $3566884893  $118896163  \n",
       "2020       NaN          NaN         NaN  \n",
       "2019   28203.0  $3999827072  $133327569  \n",
       "2018   28659.0  $3964096903  $132136563  \n",
       "2017   29908.0  $3983892634  $132796421  \n",
       "2016   30131.0  $3761011880  $125367062  \n",
       "2015   30349.0  $3680887206  $122696240  \n",
       "2014   30345.0  $3398869156  $113295638  \n",
       "2013   30451.0  $3150727861  $105024262  \n",
       "2012   30806.0  $2950092506   $98336416  "
      ]
     },
     "execution_count": 4,
     "metadata": {},
     "output_type": "execute_result"
    }
   ],
   "source": [
    "misc.head(10)"
   ]
  },
  {
   "cell_type": "code",
   "execution_count": 5,
   "metadata": {},
   "outputs": [
    {
     "data": {
      "text/html": [
       "<div>\n",
       "<style scoped>\n",
       "    .dataframe tbody tr th:only-of-type {\n",
       "        vertical-align: middle;\n",
       "    }\n",
       "\n",
       "    .dataframe tbody tr th {\n",
       "        vertical-align: top;\n",
       "    }\n",
       "\n",
       "    .dataframe thead th {\n",
       "        text-align: right;\n",
       "    }\n",
       "</style>\n",
       "<table border=\"1\" class=\"dataframe\">\n",
       "  <thead>\n",
       "    <tr style=\"text-align: right;\">\n",
       "      <th></th>\n",
       "      <th>tv nominal</th>\n",
       "      <th>tv real</th>\n",
       "      <th>avg ticket pricenominal</th>\n",
       "      <th>avg ticket price real</th>\n",
       "      <th>salary nominal</th>\n",
       "      <th>salary real</th>\n",
       "    </tr>\n",
       "    <tr>\n",
       "      <th>year</th>\n",
       "      <th></th>\n",
       "      <th></th>\n",
       "      <th></th>\n",
       "      <th></th>\n",
       "      <th></th>\n",
       "      <th></th>\n",
       "    </tr>\n",
       "  </thead>\n",
       "  <tbody>\n",
       "    <tr>\n",
       "      <th>1964</th>\n",
       "      <td>21.28</td>\n",
       "      <td>123.0</td>\n",
       "      <td>2.25</td>\n",
       "      <td>13.01</td>\n",
       "      <td>14863.0</td>\n",
       "      <td>85909.0</td>\n",
       "    </tr>\n",
       "    <tr>\n",
       "      <th>1965</th>\n",
       "      <td>25.67</td>\n",
       "      <td>146.0</td>\n",
       "      <td>2.29</td>\n",
       "      <td>13.02</td>\n",
       "      <td>14341.0</td>\n",
       "      <td>81565.0</td>\n",
       "    </tr>\n",
       "    <tr>\n",
       "      <th>1966</th>\n",
       "      <td>27.04</td>\n",
       "      <td>149.0</td>\n",
       "      <td>2.35</td>\n",
       "      <td>12.95</td>\n",
       "      <td>17664.0</td>\n",
       "      <td>97335.0</td>\n",
       "    </tr>\n",
       "    <tr>\n",
       "      <th>1967</th>\n",
       "      <td>28.93</td>\n",
       "      <td>156.0</td>\n",
       "      <td>2.37</td>\n",
       "      <td>12.78</td>\n",
       "      <td>19000.0</td>\n",
       "      <td>102454.0</td>\n",
       "    </tr>\n",
       "    <tr>\n",
       "      <th>1968</th>\n",
       "      <td>31.04</td>\n",
       "      <td>160.0</td>\n",
       "      <td>2.44</td>\n",
       "      <td>12.58</td>\n",
       "      <td>20632.0</td>\n",
       "      <td>106351.0</td>\n",
       "    </tr>\n",
       "  </tbody>\n",
       "</table>\n",
       "</div>"
      ],
      "text/plain": [
       "      tv nominal  tv real  avg ticket pricenominal  avg ticket price real  \\\n",
       "year                                                                        \n",
       "1964       21.28    123.0                     2.25                  13.01   \n",
       "1965       25.67    146.0                     2.29                  13.02   \n",
       "1966       27.04    149.0                     2.35                  12.95   \n",
       "1967       28.93    156.0                     2.37                  12.78   \n",
       "1968       31.04    160.0                     2.44                  12.58   \n",
       "\n",
       "      salary nominal  salary real  \n",
       "year                               \n",
       "1964         14863.0      85909.0  \n",
       "1965         14341.0      81565.0  \n",
       "1966         17664.0      97335.0  \n",
       "1967         19000.0     102454.0  \n",
       "1968         20632.0     106351.0  "
      ]
     },
     "execution_count": 5,
     "metadata": {},
     "output_type": "execute_result"
    }
   ],
   "source": [
    "cost.head()"
   ]
  },
  {
   "cell_type": "markdown",
   "metadata": {},
   "source": [
    "## Data Preparation\n",
    "\n",
    "As the 2021 season is still in progress, the Baseball Reference data (in the `bat`,`pitch`, and `misc` DataFrames) is incomplete. Due to the COVID-19 pandemic, the 2020 season was shortened to approximately 1/3 of the usual length. To ensure complete and easily comparable data, drop 2020 and 2021 from each dataset. Additonally, append attendance per game to each DataFrame in order to facilitate finding correlations between attendance and various other features of the data."
   ]
  },
  {
   "cell_type": "code",
   "execution_count": 6,
   "metadata": {},
   "outputs": [],
   "source": [
    "dfs = [bat, pitch, misc]\n",
    "\n",
    "[x.drop(index=[2020, 2021], inplace=True) for x in dfs]\n",
    "\n",
    "attend_g= misc[\"Attend/G\"]\n",
    "bat = pd.concat([bat,attend_g], axis = 1)\n",
    "pitch = pd.concat([pitch,attend_g], axis=1)\n",
    "cost = pd.concat([cost,attend_g], axis=1)"
   ]
  },
  {
   "cell_type": "markdown",
   "metadata": {},
   "source": [
    "## EDA"
   ]
  },
  {
   "cell_type": "markdown",
   "metadata": {},
   "source": [
    "### Problem: Attendance\n",
    "\n",
    "First, let's take a look at attendance over time:"
   ]
  },
  {
   "cell_type": "code",
   "execution_count": 7,
   "metadata": {},
   "outputs": [
    {
     "data": {
      "image/png": "[encoded data removed]",
      "text/plain": [
       "<Figure size 432x288 with 1 Axes>"
      ]
     },
     "metadata": {
      "needs_background": "light"
     },
     "output_type": "display_data"
    }
   ],
   "source": [
    "_ = sns.lineplot(data = misc['Attend/G'])"
   ]
  },
  {
   "cell_type": "markdown",
   "metadata": {},
   "source": [
    "\n",
    "Attendance per game rises steadily with some periodic drops. There is a noticeable drop beginning in 2016. Is this drop predictable based on previous fluctuations? Does the attendance per game correlate with other factors such as how the game is being played or how much ticket prices cost?"
   ]
  },
  {
   "cell_type": "markdown",
   "metadata": {},
   "source": [
    "### Hypothesis 1: Game Stats\n",
    "Is attendance correlated to any aspect of the game played on the field?\n",
    "\n",
    "#### Hitting Stats"
   ]
  },
  {
   "cell_type": "code",
   "execution_count": 8,
   "metadata": {},
   "outputs": [
    {
     "name": "stdout",
     "output_type": "stream",
     "text": [
      "Attend/G    1.000000\n",
      "SO          0.881495\n",
      "HR          0.880281\n",
      "G           0.870329\n",
      "#Bat        0.806018\n",
      "SLG         0.638563\n",
      "Name: Attend/G, dtype: float64\n"
     ]
    }
   ],
   "source": [
    "bat_corr = bat.corr()\n",
    "print(bat_corr['Attend/G'].sort_values(ascending=False).head(6))"
   ]
  },
  {
   "cell_type": "markdown",
   "metadata": {},
   "source": [
    "Attendance per game is most correlated with strikeouts and homeruns. Let's plot both over time."
   ]
  },
  {
   "cell_type": "code",
   "execution_count": 9,
   "metadata": {},
   "outputs": [
    {
     "data": {
      "image/png": "[encoded data removed]",
      "text/plain": [
       "<Figure size 432x288 with 1 Axes>"
      ]
     },
     "metadata": {
      "needs_background": "light"
     },
     "output_type": "display_data"
    }
   ],
   "source": [
    "sns.lineplot(data = bat[['HR','SO']]);"
   ]
  },
  {
   "cell_type": "markdown",
   "metadata": {},
   "source": [
    "Both strikeouts and home runs rise over time. Strikeouts look to increase steadily over time. Home runs have ups and downs over time, but rise more dramatically in recent years.\n",
    "\n",
    "#### Pitching Stats\n",
    "\n",
    "Next, check the corrleations for pitching stats:"
   ]
  },
  {
   "cell_type": "code",
   "execution_count": 10,
   "metadata": {},
   "outputs": [
    {
     "name": "stdout",
     "output_type": "stream",
     "text": [
      "Attend/G    1.000000\n",
      "SV          0.943824\n",
      "GF          0.932778\n",
      "SO9         0.901777\n",
      "SO          0.900615\n",
      "Name: Attend/G, dtype: float64\n"
     ]
    }
   ],
   "source": [
    "pitch_corr = pitch.corr()\n",
    "print(pitch_corr['Attend/G'].sort_values(ascending=False).head())"
   ]
  },
  {
   "cell_type": "markdown",
   "metadata": {},
   "source": [
    "On the pitching side, the general rise in attendance is most correlated with saves and strikouts per 9 innings. There is also a high correlation with games finished ('GF'), but this is a less interesting stat as it does not necessariy have anything to do with the games themsevles, just how many there are.\n",
    "\n",
    "Plot saves and strikeouts over nine innings:"
   ]
  },
  {
   "cell_type": "code",
   "execution_count": 11,
   "metadata": {},
   "outputs": [
    {
     "data": {
      "image/png": "[encoded data removed]",
      "text/plain": [
       "<Figure size 432x288 with 1 Axes>"
      ]
     },
     "metadata": {
      "needs_background": "light"
     },
     "output_type": "display_data"
    }
   ],
   "source": [
    "sns.lineplot(data = pitch[['SV', 'SO9']]);"
   ]
  },
  {
   "cell_type": "markdown",
   "metadata": {},
   "source": [
    "What is going on with saves?"
   ]
  },
  {
   "cell_type": "code",
   "execution_count": 12,
   "metadata": {},
   "outputs": [
    {
     "data": {
      "text/plain": [
       "count    149.000000\n",
       "mean       0.126510\n",
       "std        0.092845\n",
       "min        0.000000\n",
       "25%        0.040000\n",
       "50%        0.090000\n",
       "75%        0.230000\n",
       "max        0.270000\n",
       "Name: SV, dtype: float64"
      ]
     },
     "execution_count": 12,
     "metadata": {},
     "output_type": "execute_result"
    }
   ],
   "source": [
    "pitch['SV'].describe()"
   ]
  },
  {
   "cell_type": "code",
   "execution_count": 30,
   "metadata": {},
   "outputs": [
    {
     "data": {
      "image/png": "[encoded data removed]",
      "text/plain": [
       "<Figure size 432x288 with 1 Axes>"
      ]
     },
     "metadata": {
      "needs_background": "light"
     },
     "output_type": "display_data"
    }
   ],
   "source": [
    "sns.histplot(data=pitch['SV']);"
   ]
  },
  {
   "cell_type": "markdown",
   "metadata": {},
   "source": [
    "Saves were not commonly recorded until some time in the 1950s. Furthermore, there can be no more than one save in any game. Nevertheless, the rise in saves is corrlated with the rise in attendance (r = .94). \n"
   ]
  },
  {
   "cell_type": "markdown",
   "metadata": {},
   "source": [
    "### Hypothesis 2: Ticket Price"
   ]
  },
  {
   "cell_type": "markdown",
   "metadata": {},
   "source": [
    "How have ticket prices changed over time? Plot real value to take into account the effects of inflation:"
   ]
  },
  {
   "cell_type": "code",
   "execution_count": 14,
   "metadata": {},
   "outputs": [
    {
     "data": {
      "image/png": "[encoded data removed]",
      "text/plain": [
       "<Figure size 432x288 with 1 Axes>"
      ]
     },
     "metadata": {
      "needs_background": "light"
     },
     "output_type": "display_data"
    }
   ],
   "source": [
    "sns.lineplot(data=cost['avg ticket price real']);"
   ]
  },
  {
   "cell_type": "markdown",
   "metadata": {},
   "source": [
    "Fill in the missing values using linear interpolation:"
   ]
  },
  {
   "cell_type": "code",
   "execution_count": 15,
   "metadata": {},
   "outputs": [
    {
     "data": {
      "image/png": "[encoded data removed]",
      "text/plain": [
       "<Figure size 432x288 with 1 Axes>"
      ]
     },
     "metadata": {
      "needs_background": "light"
     },
     "output_type": "display_data"
    }
   ],
   "source": [
    "cost['avg ticket price real'] = cost['avg ticket price real'].interpolate()\n",
    "sns.lineplot(data=cost['avg ticket price real']);"
   ]
  },
  {
   "cell_type": "markdown",
   "metadata": {},
   "source": [
    "Is ticket value correlated with attendance per game?"
   ]
  },
  {
   "cell_type": "code",
   "execution_count": 16,
   "metadata": {},
   "outputs": [
    {
     "name": "stdout",
     "output_type": "stream",
     "text": [
      "Attend/G                   1.000000\n",
      "avg ticket pricenominal    0.891256\n",
      "salary real                0.883943\n",
      "tv real                    0.858231\n",
      "tv nominal                 0.854408\n",
      "salary nominal             0.836556\n",
      "avg ticket price real      0.625743\n",
      "Name: Attend/G, dtype: float64\n"
     ]
    }
   ],
   "source": [
    "cost_corr = cost.corr()\n",
    "print(cost_corr['Attend/G'].sort_values(ascending=False))"
   ]
  },
  {
   "cell_type": "markdown",
   "metadata": {},
   "source": [
    "The correlation coefficient between attendance per game and average ticket prices is approximately .63. By convention, this is a moderate correlation, although not as high as others I have focused on."
   ]
  },
  {
   "cell_type": "markdown",
   "metadata": {},
   "source": [
    "### Hypothesis 3: Time of Game"
   ]
  },
  {
   "cell_type": "markdown",
   "metadata": {},
   "source": [
    "A common hypothesis among baseball fans and media pundits is that baseball is becoming less popular because the games take too long. Next, I will take a look at how long an average game has taken over time.\n",
    "\n",
    "Here is a a sample of average game lengths (many times are missing):"
   ]
  },
  {
   "cell_type": "code",
   "execution_count": 17,
   "metadata": {},
   "outputs": [
    {
     "data": {
      "text/plain": [
       "Year\n",
       "1923     NaN\n",
       "2012    3:00\n",
       "1888     NaN\n",
       "1905     NaN\n",
       "1929     NaN\n",
       "1962    2:38\n",
       "1894    2:01\n",
       "1980    2:38\n",
       "1911    1:57\n",
       "1952    2:25\n",
       "Name: Time, dtype: object"
      ]
     },
     "execution_count": 17,
     "metadata": {},
     "output_type": "execute_result"
    }
   ],
   "source": [
    "misc['Time'].sample(10)"
   ]
  },
  {
   "cell_type": "code",
   "execution_count": 18,
   "metadata": {},
   "outputs": [
    {
     "name": "stdout",
     "output_type": "stream",
     "text": [
      "<class 'pandas.core.frame.DataFrame'>\n",
      "Int64Index: 144 entries, 2019 to 1876\n",
      "Data columns (total 19 columns):\n",
      " #   Column       Non-Null Count  Dtype  \n",
      "---  ------       --------------  -----  \n",
      " 0   Tms          144 non-null    int64  \n",
      " 1   G            144 non-null    int64  \n",
      " 2   Time         92 non-null     object \n",
      " 3   Time/9I      91 non-null     object \n",
      " 4   Inn          112 non-null    float64\n",
      " 5   Inn%         112 non-null    float64\n",
      " 6   R/G          144 non-null    float64\n",
      " 7   PA/G         112 non-null    float64\n",
      " 8   Pitches/PA   22 non-null     float64\n",
      " 9   Batters/G    112 non-null    float64\n",
      " 10  Pitchers/G   112 non-null    float64\n",
      " 11  PH/G         112 non-null    float64\n",
      " 12  PR/G         112 non-null    float64\n",
      " 13  Batters/S    112 non-null    float64\n",
      " 14  Pitchers/S   112 non-null    float64\n",
      " 15  Attendance   130 non-null    float64\n",
      " 16  Attend/G     130 non-null    float64\n",
      " 17  Lg Payroll*  49 non-null     object \n",
      " 18  Payroll/Tm*  49 non-null     object \n",
      "dtypes: float64(13), int64(2), object(4)\n",
      "memory usage: 27.5+ KB\n"
     ]
    }
   ],
   "source": [
    "misc.info()"
   ]
  },
  {
   "cell_type": "markdown",
   "metadata": {},
   "source": [
    "Looking at the info for this dataframe, it appears that we need to convert strings denoting hours and minutes to timedeltas. Game times are not (usually) tracked to the second, so I will estimate to the nearest minute by adding \":00\" to the end of each string. Then, convert to the type timedelta. "
   ]
  },
  {
   "cell_type": "code",
   "execution_count": 19,
   "metadata": {},
   "outputs": [
    {
     "data": {
      "text/plain": [
       "Year\n",
       "2019   0 days 03:10:00\n",
       "2018   0 days 03:04:00\n",
       "2017   0 days 03:08:00\n",
       "2016   0 days 03:04:00\n",
       "2015   0 days 03:00:00\n",
       "Name: Time, dtype: timedelta64[ns]"
      ]
     },
     "execution_count": 19,
     "metadata": {},
     "output_type": "execute_result"
    }
   ],
   "source": [
    "misc['Time'] = misc['Time'] + \":00\"\n",
    "misc['Time'] = pd.to_timedelta(misc['Time'], errors='coerce')\n",
    "misc['Time'].head()"
   ]
  },
  {
   "cell_type": "markdown",
   "metadata": {},
   "source": [
    "In order to easily plot over time, I will need one number. Convert `'Time'` to `'game_time_seconds'` and plot the average over year:"
   ]
  },
  {
   "cell_type": "code",
   "execution_count": 20,
   "metadata": {},
   "outputs": [
    {
     "data": {
      "image/png": "[encoded data removed]",
      "text/plain": [
       "<Figure size 432x288 with 1 Axes>"
      ]
     },
     "metadata": {
      "needs_background": "light"
     },
     "output_type": "display_data"
    }
   ],
   "source": [
    "misc['game_time_seconds'] = misc['Time'].astype('timedelta64[s]')\n",
    "sns.lineplot(data=misc['game_time_seconds']);"
   ]
  },
  {
   "cell_type": "markdown",
   "metadata": {},
   "source": [
    "Interplote the missing values, again using the linear method:"
   ]
  },
  {
   "cell_type": "code",
   "execution_count": 21,
   "metadata": {},
   "outputs": [
    {
     "data": {
      "image/png": "[encoded data removed]",
      "text/plain": [
       "<Figure size 432x288 with 1 Axes>"
      ]
     },
     "metadata": {
      "needs_background": "light"
     },
     "output_type": "display_data"
    }
   ],
   "source": [
    "misc['game_time_seconds'] = misc['game_time_seconds'].interpolate()\n",
    "sns.lineplot(data=misc['game_time_seconds']);"
   ]
  },
  {
   "cell_type": "markdown",
   "metadata": {},
   "source": [
    "And check the correlations:"
   ]
  },
  {
   "cell_type": "code",
   "execution_count": 22,
   "metadata": {},
   "outputs": [
    {
     "name": "stdout",
     "output_type": "stream",
     "text": [
      "Attend/G             1.000000\n",
      "Attendance           0.980177\n",
      "Pitchers/G           0.951574\n",
      "game_time_seconds    0.950838\n",
      "Tms                  0.938924\n",
      "Name: Attend/G, dtype: float64\n"
     ]
    }
   ],
   "source": [
    "time_corr = misc.corr()\n",
    "print(time_corr['Attend/G'].sort_values(ascending=False).head(5))"
   ]
  },
  {
   "cell_type": "markdown",
   "metadata": {},
   "source": [
    "Attendance per game is highly corrleated (r = .95) with game time. If people don't like longer games, why might this be so?"
   ]
  },
  {
   "cell_type": "markdown",
   "metadata": {},
   "source": [
    "### Problem: Attendance\n",
    "\n",
    "Can the drop in attendance be predicted, or is it an anomaly? Finally, I will prepare the data I have looked at for modeling and analysis in the next phase."
   ]
  },
  {
   "cell_type": "code",
   "execution_count": 23,
   "metadata": {},
   "outputs": [],
   "source": [
    "df = bat[['Attend/G','HR','SO']].join(pitch[['SV', 'SO9']]).join(misc['game_time_seconds'])"
   ]
  },
  {
   "cell_type": "code",
   "execution_count": 24,
   "metadata": {},
   "outputs": [
    {
     "data": {
      "text/plain": [
       "<AxesSubplot:>"
      ]
     },
     "execution_count": 24,
     "metadata": {},
     "output_type": "execute_result"
    },
    {
     "data": {
      "image/png": "[encoded data removed]",
      "text/plain": [
       "<Figure size 1800x720 with 2 Axes>"
      ]
     },
     "metadata": {
      "needs_background": "light"
     },
     "output_type": "display_data"
    }
   ],
   "source": [
    "msno.matrix(df)"
   ]
  },
  {
   "cell_type": "code",
   "execution_count": 25,
   "metadata": {},
   "outputs": [
    {
     "data": {
      "text/plain": [
       "<AxesSubplot:>"
      ]
     },
     "execution_count": 25,
     "metadata": {},
     "output_type": "execute_result"
    },
    {
     "data": {
      "image/png": "[encoded data removed]",
      "text/plain": [
       "<Figure size 1728x720 with 3 Axes>"
      ]
     },
     "metadata": {
      "needs_background": "light"
     },
     "output_type": "display_data"
    }
   ],
   "source": [
    "msno.bar(df)"
   ]
  },
  {
   "cell_type": "code",
   "execution_count": 26,
   "metadata": {},
   "outputs": [],
   "source": [
    "df = df.bfill()"
   ]
  },
  {
   "cell_type": "code",
   "execution_count": 27,
   "metadata": {},
   "outputs": [
    {
     "data": {
      "text/plain": [
       "<AxesSubplot:>"
      ]
     },
     "execution_count": 27,
     "metadata": {},
     "output_type": "execute_result"
    },
    {
     "data": {
      "image/png": "[encoded data removed]",
      "text/plain": [
       "<Figure size 1800x720 with 2 Axes>"
      ]
     },
     "metadata": {
      "needs_background": "light"
     },
     "output_type": "display_data"
    }
   ],
   "source": [
    "msno.matrix(df)"
   ]
  },
  {
   "cell_type": "code",
   "execution_count": 28,
   "metadata": {},
   "outputs": [
    {
     "data": {
      "text/html": [
       "<div>\n",
       "<style scoped>\n",
       "    .dataframe tbody tr th:only-of-type {\n",
       "        vertical-align: middle;\n",
       "    }\n",
       "\n",
       "    .dataframe tbody tr th {\n",
       "        vertical-align: top;\n",
       "    }\n",
       "\n",
       "    .dataframe thead th {\n",
       "        text-align: right;\n",
       "    }\n",
       "</style>\n",
       "<table border=\"1\" class=\"dataframe\">\n",
       "  <thead>\n",
       "    <tr style=\"text-align: right;\">\n",
       "      <th></th>\n",
       "      <th>Attend/G</th>\n",
       "      <th>HR</th>\n",
       "      <th>SO</th>\n",
       "      <th>SV</th>\n",
       "      <th>SO9</th>\n",
       "      <th>game_time_seconds</th>\n",
       "    </tr>\n",
       "    <tr>\n",
       "      <th>Year</th>\n",
       "      <th></th>\n",
       "      <th></th>\n",
       "      <th></th>\n",
       "      <th></th>\n",
       "      <th></th>\n",
       "      <th></th>\n",
       "    </tr>\n",
       "  </thead>\n",
       "  <tbody>\n",
       "    <tr>\n",
       "      <th>1871</th>\n",
       "      <td>1439.0</td>\n",
       "      <td>0.19</td>\n",
       "      <td>0.69</td>\n",
       "      <td>0.02</td>\n",
       "      <td>0.7</td>\n",
       "      <td>7260.0</td>\n",
       "    </tr>\n",
       "    <tr>\n",
       "      <th>1872</th>\n",
       "      <td>1439.0</td>\n",
       "      <td>0.10</td>\n",
       "      <td>0.72</td>\n",
       "      <td>0.02</td>\n",
       "      <td>0.7</td>\n",
       "      <td>7260.0</td>\n",
       "    </tr>\n",
       "    <tr>\n",
       "      <th>1873</th>\n",
       "      <td>1439.0</td>\n",
       "      <td>0.12</td>\n",
       "      <td>0.70</td>\n",
       "      <td>0.02</td>\n",
       "      <td>0.7</td>\n",
       "      <td>7260.0</td>\n",
       "    </tr>\n",
       "    <tr>\n",
       "      <th>1874</th>\n",
       "      <td>1439.0</td>\n",
       "      <td>0.09</td>\n",
       "      <td>0.77</td>\n",
       "      <td>0.01</td>\n",
       "      <td>0.8</td>\n",
       "      <td>7260.0</td>\n",
       "    </tr>\n",
       "    <tr>\n",
       "      <th>1875</th>\n",
       "      <td>1439.0</td>\n",
       "      <td>0.06</td>\n",
       "      <td>0.98</td>\n",
       "      <td>0.03</td>\n",
       "      <td>1.0</td>\n",
       "      <td>7260.0</td>\n",
       "    </tr>\n",
       "  </tbody>\n",
       "</table>\n",
       "</div>"
      ],
      "text/plain": [
       "      Attend/G    HR    SO    SV  SO9  game_time_seconds\n",
       "Year                                                    \n",
       "1871    1439.0  0.19  0.69  0.02  0.7             7260.0\n",
       "1872    1439.0  0.10  0.72  0.02  0.7             7260.0\n",
       "1873    1439.0  0.12  0.70  0.02  0.7             7260.0\n",
       "1874    1439.0  0.09  0.77  0.01  0.8             7260.0\n",
       "1875    1439.0  0.06  0.98  0.03  1.0             7260.0"
      ]
     },
     "execution_count": 28,
     "metadata": {},
     "output_type": "execute_result"
    }
   ],
   "source": [
    "df.head()"
   ]
  },
  {
   "cell_type": "code",
   "execution_count": 29,
   "metadata": {},
   "outputs": [],
   "source": [
    "df.to_csv('data/for_modeling.csv')"
   ]
  }
 ],
 "metadata": {
  "kernelspec": {
   "display_name": "Python 3",
   "language": "python",
   "name": "python3"
  },
  "language_info": {
   "codemirror_mode": {
    "name": "ipython",
    "version": 3
   },
   "file_extension": ".py",
   "mimetype": "text/x-python",
   "name": "python",
   "nbconvert_exporter": "python",
   "pygments_lexer": "ipython3",
   "version": "3.8.5"
  }
 },
 "nbformat": 4,
 "nbformat_minor": 4
}
